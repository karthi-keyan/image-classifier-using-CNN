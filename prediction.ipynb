{
 "cells": [
  {
   "cell_type": "code",
   "execution_count": null,
   "metadata": {
    "collapsed": true
   },
   "outputs": [],
   "source": [
    "#importing required modules"
   ]
  },
  {
   "cell_type": "code",
   "execution_count": 1,
   "metadata": {
    "collapsed": true
   },
   "outputs": [],
   "source": [
    "import tensorflow as tf\n",
    "import os\n",
    "from PIL import Image\n",
    "import numpy as np\n",
    "os.chdir(\"C:/Users/karthi/Desktop/image_classifier\")\n",
    "ses=tf.Session()"
   ]
  },
  {
   "cell_type": "code",
   "execution_count": null,
   "metadata": {
    "collapsed": true
   },
   "outputs": [],
   "source": [
    "#creating required tensorflow variables ie.weights and biases"
   ]
  },
  {
   "cell_type": "code",
   "execution_count": 2,
   "metadata": {
    "collapsed": true
   },
   "outputs": [],
   "source": [
    "x=tf.placeholder(\"float32\",[1,128,128,3])\n",
    "y=tf.placeholder('float32',[1,2])\n",
    "conv_layer1={\"weights\":tf.Variable(tf.truncated_normal([3,3,3,3])),\"bias\":tf.Variable(tf.random_normal([3]))}\n",
    "conv_layer2={\"weights\":tf.Variable(tf.truncated_normal([5,5,3,32])),\"bias\":tf.Variable(tf.random_normal([32]))}\n",
    "conv_layer3={\"weights\":tf.Variable(tf.truncated_normal([6,6,32,64])),\"bias\":tf.Variable(tf.random_normal([64]))}\n",
    "fc_layer1={\"weights\":tf.Variable(tf.truncated_normal([32*32*64,600])),\"bias\":tf.Variable(tf.random_normal([600]))}\n",
    "out_layer={\"weights\":tf.Variable(tf.truncated_normal([600,2])),\"bias\":tf.Variable(tf.random_normal([2]))}"
   ]
  },
  {
   "cell_type": "code",
   "execution_count": null,
   "metadata": {
    "collapsed": true
   },
   "outputs": [],
   "source": [
    "#loading the tensorflow model (which is already pre_trained using image_classifier.pynb program)"
   ]
  },
  {
   "cell_type": "code",
   "execution_count": 7,
   "metadata": {},
   "outputs": [
    {
     "name": "stdout",
     "output_type": "stream",
     "text": [
      "INFO:tensorflow:Restoring parameters from model/trained_model.ckpt\n"
     ]
    }
   ],
   "source": [
    "ses.run(tf.global_variables_initializer())\n",
    "saver=tf.train.Saver()\n",
    "saver.restore(ses,\"model/trained_model.ckpt\")"
   ]
  },
  {
   "cell_type": "code",
   "execution_count": null,
   "metadata": {
    "collapsed": true
   },
   "outputs": [],
   "source": [
    "#defining the convolution network"
   ]
  },
  {
   "cell_type": "code",
   "execution_count": 8,
   "metadata": {
    "collapsed": true
   },
   "outputs": [],
   "source": [
    "def conv_classify(x):\n",
    "    print(\"==========================================================\")\n",
    "    con1=tf.nn.conv2d(x,conv_layer1[\"weights\"],strides=[1,1,1,1],padding=\"SAME\")+conv_layer1[\"bias\"]\n",
    "    print(\"convolution layer1 {}   filter  3X3\".format(con1.shape))\n",
    "    con1=tf.nn.relu(con1)\n",
    "    print(\"relu {}\".format(con1.shape))\n",
    "    print(\"==========================================================\")\n",
    "    con2=tf.nn.conv2d(con1,conv_layer2[\"weights\"],strides=[1,1,1,1],padding=\"SAME\")+conv_layer2[\"bias\"]\n",
    "    print(\"convolution layer2 {}   filter  5X5\".format(con2.shape))\n",
    "    con2=tf.nn.relu(con2)\n",
    "    print(\"relu {}\".format(con2.shape))\n",
    "    con2=tf.nn.max_pool(con2,ksize=[1,2,2,1],strides=[1,2,2,1],padding=\"SAME\")\n",
    "    print(\"maxpool layer {}   filter  2X2\".format(con2.shape))\n",
    "    print(\"==========================================================\")\n",
    "    con3=tf.nn.conv2d(con2,conv_layer3[\"weights\"],strides=[1,1,1,1],padding=\"SAME\")+conv_layer3[\"bias\"]\n",
    "    print(\"convolution layer3 {}   filter  6X6\".format(con3.shape))\n",
    "    con3=tf.nn.relu(con3)\n",
    "    print(\"relu {}\".format(con3.shape))\n",
    "    con3=tf.nn.max_pool(con3,ksize=[1,2,2,1],strides=[1,2,2,1],padding=\"SAME\")\n",
    "    print(\"maxpool layer {}   filter  2X2\".format(con3.shape))\n",
    "    print(\"==========================================================\")\n",
    "    con3=tf.reshape(con3,[-1,32*32*64])\n",
    "    fc=tf.add(tf.matmul(con3,fc_layer1[\"weights\"]),fc_layer1[\"bias\"])\n",
    "    fc=tf.nn.sigmoid(fc)\n",
    "    print(\"fully connected layer {}\".format(fc.shape))\n",
    "    fc=tf.nn.dropout(fc,0.75)\n",
    "    out=tf.add(tf.matmul(fc,out_layer[\"weights\"]),out_layer[\"bias\"])\n",
    "    out=tf.nn.sigmoid(out)\n",
    "    print(\"output layer {}\".format(out.shape))\n",
    "    print(\"==========================================================\")\n",
    "    return out"
   ]
  },
  {
   "cell_type": "code",
   "execution_count": null,
   "metadata": {
    "collapsed": true
   },
   "outputs": [],
   "source": [
    "#classification"
   ]
  },
  {
   "cell_type": "code",
   "execution_count": 9,
   "metadata": {},
   "outputs": [
    {
     "name": "stdout",
     "output_type": "stream",
     "text": [
      "==========================================================\n",
      "convolution layer1 (1, 128, 128, 3)   filter  3X3\n",
      "relu (1, 128, 128, 3)\n",
      "==========================================================\n",
      "convolution layer2 (1, 128, 128, 32)   filter  5X5\n",
      "relu (1, 128, 128, 32)\n",
      "maxpool layer (1, 64, 64, 32)   filter  2X2\n",
      "==========================================================\n",
      "convolution layer3 (1, 64, 64, 64)   filter  6X6\n",
      "relu (1, 64, 64, 64)\n",
      "maxpool layer (1, 32, 32, 64)   filter  2X2\n",
      "==========================================================\n",
      "fully connected layer (1, 600)\n",
      "output layer (1, 2)\n",
      "==========================================================\n",
      "[[  1.30740176e-11   1.00000000e+00]]\n",
      "1.png is car\n",
      "[[  1.00000000e+00   2.14821650e-13]]\n",
      "2.png is cat\n",
      "[[  1.00000000e+00   1.53626303e-07]]\n",
      "gvhvkvkj.png is cat\n",
      "[[  1.00000000e+00   8.92891758e-18]]\n",
      "obj14__175.png is cat\n",
      "[[  9.99991298e-01   2.15046995e-04]]\n",
      "obj14__245.png is cat\n",
      "[[  9.89270329e-01   8.49722255e-07]]\n",
      "obj14__70.png is cat\n",
      "[[  3.07103204e-10   9.99999404e-01]]\n",
      "obj6__230.png is car\n",
      "[[  1.18300022e-07   9.99998331e-01]]\n",
      "obj6__260.png is car\n",
      "[[  1.45234020e-12   1.00000000e+00]]\n",
      "obj6__355.png is car\n",
      "[[  3.82087746e-05   1.00000000e+00]]\n",
      "z.png is car\n"
     ]
    }
   ],
   "source": [
    "pred=conv_classify(x)\n",
    "files=os.listdir(\"test_images/\")\n",
    "for each in files:\n",
    "    image=Image.open(\"test_images/{}\".format(each))\n",
    "    x_data=np.array(image.getdata()).reshape([1,128,128,3]).astype(\"float32\")\n",
    "    val=ses.run(pred,feed_dict={x:x_data})\n",
    "    print(val)\n",
    "    maxi=max(val[0])\n",
    "    if val[0][0]==maxi:\n",
    "        print(\"{} is cat\".format(each)) \n",
    "    else:\n",
    "        print(\"{} is car\".format(each))"
   ]
  },
  {
   "cell_type": "code",
   "execution_count": null,
   "metadata": {
    "collapsed": true
   },
   "outputs": [],
   "source": []
  }
 ],
 "metadata": {
  "kernelspec": {
   "display_name": "Python 3",
   "language": "python",
   "name": "python3"
  },
  "language_info": {
   "codemirror_mode": {
    "name": "ipython",
    "version": 3
   },
   "file_extension": ".py",
   "mimetype": "text/x-python",
   "name": "python",
   "nbconvert_exporter": "python",
   "pygments_lexer": "ipython3",
   "version": "3.6.1"
  }
 },
 "nbformat": 4,
 "nbformat_minor": 2
}
